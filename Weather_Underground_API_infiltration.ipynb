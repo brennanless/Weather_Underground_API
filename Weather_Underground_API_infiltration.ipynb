{
 "cells": [
  {
   "cell_type": "markdown",
   "metadata": {},
   "source": [
    "# Weather Underground API scraping\n",
    "\n",
    "I developed this code based on a tutorial located at: http://www.pythonforbeginners.com/scraping/scraping-wunderground\n",
    "\n",
    "Weather Underground API data features can be explored at: http://www.wunderground.com/weather/api/d/docs?d=data/index\n",
    "\n",
    "I generated a Weather Underground API key using my personal email account. My account is limited to something like 500 daily calls to the API and some hourly value that is not of concern. Calling each hour of the day in eight homes will lead to 8*24 = 192 daily calls.\n",
    "\n",
    "I used the online JSON editor (http://jsoneditoronline.org/) to assist in understanding JSON formatted responses from Weather Underground API. Simply take the API call URL (in requests.get() calls) and paste into the JSON editor. This helps in constructing the calls to the JSON objects (e.g.,  data['hourly_forecast']['hour']['FCTTIME']['hour_padded']).\n",
    "\n",
    "##Description of codes\n",
    "\n",
    "Packages are imported, custom fucntions are defined, model coefficients are initialized, API calls are made for 3-day hourly forecasts and for current conditions, infiltration is estimated for forecast and current values, forecast array is written to file for use in cases where current conditions cannot be accessed.\n",
    "\n",
    "* Forecast portion should be executed once every 4, 8 or 12 hours.\n",
    "* Current conditions portion will be executed once per hour.\n",
    "* If current conditions calculations fail for any reason, then the forecast data table should be opened, and values should be selected based on the matching date/time index.\n",
    "* Use hourly infiltration estimate in dose/exposure and RIVEC calculations.\n",
    "\n",
    "It's worth noting that I was not able to export this .pynb file to .py script using the option under File>Download As>Python. Had to use the following at the command line (https://ipython.org/ipython-doc/1/interactive/nbconvert.html):\n",
    "\n",
    "ipython nbconvert --to python Weather_Underground_API_infiltration.ipynb\n"
   ]
  },
  {
   "cell_type": "code",
   "execution_count": 2,
   "metadata": {
    "collapsed": false
   },
   "outputs": [],
   "source": [
    "import requests\n",
    "import numpy as np\n",
    "import datetime\n",
    "import os\n",
    "import sys\n",
    "import time"
   ]
  },
  {
   "cell_type": "code",
   "execution_count": 5,
   "metadata": {
    "collapsed": true
   },
   "outputs": [],
   "source": [
    "#Date time stamp function, WX_dates()\n",
    "#Uses the hour index from the Weather Underground forecast to pull the hour, minute, day and year values. \n",
    "#Concatenates into legible date/time string. \n",
    "\n",
    "def WX_dates(hour):\n",
    "    hours = str(data['hourly_forecast'][hour]['FCTTIME']['hour_padded'])\n",
    "    minutes = str(data['hourly_forecast'][hour]['FCTTIME']['min'])\n",
    "    days = str(data['hourly_forecast'][hour]['FCTTIME']['mday_padded'])\n",
    "    months = str(data['hourly_forecast'][hour]['FCTTIME']['mon_padded'])\n",
    "    years = str(data['hourly_forecast'][hour]['FCTTIME']['year'])\n",
    "    return \"%s/%s/%s %s:%s\" %(years, months, days, hours, minutes) \n",
    "\n",
    "#Stack airflow rate, stack()\n",
    "#c = house flow coeff, Cs = stack coeff, T (c), n\n",
    "\n",
    "def stack(c, Cs, T, n=0.67):\n",
    "    return c*Cs*T**n\n",
    "\n",
    "#Wind airflow rate, wind()\n",
    "#c = house flow coefficient, Cw = wind coefficient (varies with # stories and presence of flue), s = Shelter factor, \n",
    "#G = Wind Speed multiplier (by # stories), U = wind velocity (m/s), n = pressure exponent\n",
    "\n",
    "def wind(c,Cw,s,G,U,n=0.67):\n",
    "    return c*Cw*(s*G*U)**(2*n)\n",
    "\n",
    "#Superposition calculation, superposition()\n",
    "#stack = stack airflow, wind = wind airflow, mech_unbal = unbalanced mechanical airflows (defaults to 0), \n",
    "#mech_bal = balanced mechanical airflows (defaults to 0).\n",
    "\n",
    "def superposition(stack, wind, mech_unbal = 0, mech_bal = 0):\n",
    "    return mech_bal + (stack**2 + wind**2 + mech_unbal**2)**0.5"
   ]
  },
  {
   "cell_type": "code",
   "execution_count": 6,
   "metadata": {
    "collapsed": false
   },
   "outputs": [],
   "source": [
    "#Set of infiltration model coefficients. Coef_array is 3x5. From 2013 ASHRAE Handbook of Fundamentals, Chapter 16, \n",
    "#pages 24-25, Tables 7, 8 and 9. \n",
    "\n",
    "#Row 0 = 1-story, \n",
    "#Row 1 = 2-story, \n",
    "#Row 3 = 3-story\n",
    "\n",
    "#Col 0 = Wind Speed Multiplier (G), \n",
    "#Col 1 = Stack Coefficient (Cs, assumes flue), \n",
    "#Col 2 = Wind coefficient (Cw, assumes crawlspace + flue), \n",
    "#Col 3 = Wind Coefficient (Cw, assumes basement slab + flue), \n",
    "#Col 4 = Shelter Factor (s, assumes shelter class 4 + flue).\n",
    "\n",
    "Coefficients = [0.48,0.59,0.67,0.069,0.089,0.107,0.128,0.142,0.154,0.142,0.156,0.167,0.7,0.64,0.61]\n",
    "Coef_array = np.array(Coefficients).reshape(5, 3).T\n",
    "\n",
    "#Or just specify them for each house. Use config file?\n",
    "\n",
    "# assumes 3 ACH50 home, n=0.67, house volume of 250 m3. 1-story, with flue, crawlspace.\n",
    "c = 0.015193229 \n",
    "Cs = 0.069\n",
    "Cw = 0.128\n",
    "G = 0.48\n",
    "s = 0.70\n",
    "House_temp = 20\n",
    "\n",
    "API_key = '74c40f9c6f3578a6'\n",
    "\n",
    "#File path for reading/writing files\n",
    "path = '/Users/brennanless'\n",
    "\n",
    "#sets working directory to path string\n",
    "os.chdir(path) "
   ]
  },
  {
   "cell_type": "code",
   "execution_count": 7,
   "metadata": {
    "collapsed": false
   },
   "outputs": [],
   "source": [
    "index = 0\n",
    "#item = 0\n",
    "\n",
    "for attempt in range(10):\n",
    "#    item+=1\n",
    "#    if item < 10:\n",
    "    if index == 0:\n",
    "\n",
    "        try:\n",
    "            #Request json data for the hourly 3-day forecast.\n",
    "            r = requests.get(\"http://api.wunderground.com/api/%s/hourly/q/CA/San_Leandro.json\" % API_key)\n",
    "            #r = requests.get(\"fartsingspop\")\n",
    "            data = r.json()\n",
    "\n",
    "            #Request json data for current measured conditions.\n",
    "            conditions = requests.get(\"http://api.wunderground.com/api/%s/conditions/q/CA/San_Leandro.json\" % API_key)\n",
    "            curr_cond = conditions.json()\n",
    "\n",
    "            index == 1\n",
    "\n",
    "        except: \n",
    "            index == 0\n",
    "            print \"An error occurred connecting to the Weather Underground host. Will try again in a bit.\"\n",
    "            time.sleep(12)\n",
    "    else:\n",
    "        #Here is where we would then open the forecast data and use it in our predictions.\n",
    "        break\n",
    "\n",
    "\n",
    "\n"
   ]
  },
  {
   "cell_type": "code",
   "execution_count": 8,
   "metadata": {
    "collapsed": false
   },
   "outputs": [],
   "source": [
    "#Import Date/time stamps and hourly forecasts for outdoor tempeature and windspeed. \n",
    "#Convert wind speed from km/h to m/s using (1000/3600), m/km, sec/hr.\n",
    "#Estimate infiltration airflow using superposition function, with stack and wind estimates. \n",
    "\n",
    "#Create empty lists\n",
    "wind_speeds = []\n",
    "temps = []\n",
    "dates = []\n",
    "infiltration = []\n",
    "\n",
    "#for-loop populates lists using .append() method. \n",
    "for hour in range(0,36):\n",
    "    wind_speeds.append((float(1000)/3600)*int(data['hourly_forecast'][hour]['wspd']['metric'])) #converted from km/h to m/s\n",
    "    temps.append(int(data['hourly_forecast'][hour]['temp']['metric']))\n",
    "    dates.append(WX_dates(hour))\n",
    "    infiltration.append(superposition(stack(c, Cs, (House_temp - temps[hour])), wind(c, Cw, s, G, wind_speeds[hour])))\n",
    "\n",
    "#Convert lists to numpy arrays    \n",
    "ws_np = np.array(wind_speeds)\n",
    "temps_np = np.array(temps)\n",
    "dates_np = np.array(dates)\n",
    "infiltration_np = np.array(infiltration)\n",
    "\n",
    "#Join integer values for temp and wind speed into one array.\n",
    "vals = np.column_stack((dates_np, temps_np, ws_np, infiltration_np))\n"
   ]
  },
  {
   "cell_type": "code",
   "execution_count": 9,
   "metadata": {
    "collapsed": true
   },
   "outputs": [],
   "source": [
    "#Can also take this the route of ONLY using current conditions.\n",
    "#My goal would be for the controller to use the current conditions at the top of every hour to estimate infiltration,\n",
    "#For any instances where the internet connection is down, and current conditions cannot be retrieved,\n",
    "#The hourly forecast data table can be used. \n",
    "\n",
    "temp_curr = curr_cond['current_observation']['temp_c']\n",
    "wind_curr = curr_cond['current_observation']['wind_kph'] * (float(1000)/3600)\n",
    "inf_curr = superposition(stack(c, Cs, (House_temp - temp_curr)), wind(c, Cw, s, G, wind_curr))"
   ]
  },
  {
   "cell_type": "code",
   "execution_count": 10,
   "metadata": {
    "collapsed": false
   },
   "outputs": [],
   "source": [
    "#x = np.column_stack((dates_np, vals))\n",
    "\n",
    "np.savetxt('Forecast_Values.txt', vals , delimiter = ',', fmt = '%s')"
   ]
  },
  {
   "cell_type": "code",
   "execution_count": 110,
   "metadata": {
    "collapsed": false
   },
   "outputs": [],
   "source": [
    "#This sequence is used when current condition data are not available.\n",
    "#The 3-day hourly forecast data is opened from file, and the correct datetime is used to select a \n",
    "#value for inf_curr (current infiltration estimate, m3/s).\n",
    "\n",
    "#Loads the forecast data from the local file system. \n",
    "forecast_vals = np.loadtxt('Forecast_Values.txt', delimiter = \",\", \n",
    "                           dtype={'names': ('datetime', 'temp', 'wind_spd', 'inf'), \n",
    "                                  'formats': ('a18', 'i4', 'f8', 'f8')})\n",
    "\n",
    "#cpu time\n",
    "d = datetime.datetime.now()\n",
    "\n",
    "bool_vals = []\n",
    "\n",
    "for hour in range(len(forecast_vals)):\n",
    "    #creates datetime obj for each entry in vals\n",
    "    d_file = datetime.datetime.strptime(forecast_vals['datetime'][hour], '%Y/%m/%d %H:%M') \n",
    "    #creates list of boolean T/F values. Need to identify the entry in vals that is the last entry not greater than the current cpu time.\n",
    "    bool_vals.append(d < d_file)  \n",
    "    \n",
    "#creates indexes of True boolean values.    \n",
    "bool_vals_ind = np.where(bool_vals) \n",
    "\n",
    "#identifies the minimum True index and steps back one row.\n",
    "current_time_index = np.amin(bool_vals_ind)-1 \n",
    "\n",
    "#Pulls current infiltration estimate from historical forecast estimates.  \n",
    "inf_curr = forecast_vals['inf'][current_time_index] "
   ]
  }
 ],
 "metadata": {
  "kernelspec": {
   "display_name": "Python 2",
   "language": "python",
   "name": "python2"
  },
  "language_info": {
   "codemirror_mode": {
    "name": "ipython",
    "version": 2
   },
   "file_extension": ".py",
   "mimetype": "text/x-python",
   "name": "python",
   "nbconvert_exporter": "python",
   "pygments_lexer": "ipython2",
   "version": "2.7.11"
  }
 },
 "nbformat": 4,
 "nbformat_minor": 0
}
